{
 "cells": [
  {
   "cell_type": "code",
   "execution_count": null,
   "metadata": {},
   "outputs": [],
   "source": [
    "import torch\n",
    "import torch.nn.functional as F\n",
    "import matplotlib.pyplot as plt"
   ]
  },
  {
   "cell_type": "code",
   "execution_count": 107,
   "metadata": {},
   "outputs": [],
   "source": [
    "model_path = \"./save_models/LSTM_MNIST_3.pth\"\n",
    "device = \"cuda\"\n",
    "model = torch.load(model_path, weights_only=False, map_location=torch.device(device))"
   ]
  },
  {
   "cell_type": "code",
   "execution_count": 43,
   "metadata": {},
   "outputs": [],
   "source": [
    "def generate_image_MLP(model):\n",
    "    new_image = torch.zeros(1, 28*28).to(device)\n",
    "    mask = torch.ones_like(new_image, dtype=torch.int).to(device)\n",
    "    for i in range(28*28):\n",
    "        logits = model(new_image, mask)\n",
    "        probs = F.softmax(logits)\n",
    "        sample = torch.multinomial(probs, 1)\n",
    "        new_image[0][i] = sample\n",
    "\n",
    "    return new_image"
   ]
  },
  {
   "cell_type": "code",
   "execution_count": 105,
   "metadata": {},
   "outputs": [],
   "source": [
    "greedy = False\n",
    "def generate_image_rnn(model):\n",
    "    h = model.get_init_hidden(1)\n",
    "    h = h[0].to(device), h[1].to(device)\n",
    "    new_image = torch.zeros(1, 28 * 28).to(device)\n",
    "    cur_input = torch.tensor([[[0.0]]]).to(device)\n",
    "\n",
    "    for i in range(28*28):\n",
    "        logits, h = model(cur_input, h)\n",
    "\n",
    "        probs = F.softmax(logits[0][0])\n",
    "\n",
    "        if greedy:\n",
    "            sample = torch.argmax(probs)\n",
    "        else:\n",
    "            sample = torch.multinomial(probs, 1)\n",
    "        new_image[0][i] = sample\n",
    "\n",
    "        cur_input = sample.float().reshape(1, 1, 1)\n",
    "\n",
    "    return new_image"
   ]
  },
  {
   "cell_type": "code",
   "execution_count": 119,
   "metadata": {},
   "outputs": [
    {
     "name": "stderr",
     "output_type": "stream",
     "text": [
      "C:\\Users\\86150\\AppData\\Local\\Temp\\ipykernel_10488\\2849669611.py:11: UserWarning: Implicit dimension choice for softmax has been deprecated. Change the call to include dim=X as an argument.\n",
      "  probs = F.softmax(logits[0][0])\n"
     ]
    },
    {
     "data": {
      "image/png": "[encoded data removed]",
      "text/plain": [
       "<Figure size 640x480 with 2 Axes>"
      ]
     },
     "metadata": {},
     "output_type": "display_data"
    }
   ],
   "source": [
    "new_image = generate_image_rnn(model).to(\"cpu\")\n",
    "plt.imshow(new_image[0].reshape(28,28).detach().numpy(), cmap=\"gray\")\n",
    "plt.colorbar()  # 显示颜色条\n",
    "plt.show()"
   ]
  }
 ],
 "metadata": {
  "kernelspec": {
   "display_name": "ml",
   "language": "python",
   "name": "python3"
  },
  "language_info": {
   "codemirror_mode": {
    "name": "ipython",
    "version": 3
   },
   "file_extension": ".py",
   "mimetype": "text/x-python",
   "name": "python",
   "nbconvert_exporter": "python",
   "pygments_lexer": "ipython3",
   "version": "3.10.16"
  }
 },
 "nbformat": 4,
 "nbformat_minor": 2
}
