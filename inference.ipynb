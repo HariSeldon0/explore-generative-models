{
 "cells": [
  {
   "cell_type": "code",
   "execution_count": 25,
   "metadata": {},
   "outputs": [],
   "source": [
    "import torch\n",
    "import torch.nn.functional as F\n",
    "import matplotlib.pyplot as plt"
   ]
  },
  {
   "cell_type": "code",
   "execution_count": 21,
   "metadata": {},
   "outputs": [],
   "source": [
    "model_path = \"./save_models/MLP_MNIST.pth\"\n",
    "device = \"cuda\"\n",
    "model = torch.load(model_path, weights_only=False, map_location=torch.device(device))"
   ]
  },
  {
   "cell_type": "code",
   "execution_count": null,
   "metadata": {},
   "outputs": [],
   "source": [
    "def generate_image(model):\n",
    "    new_image = torch.zeros(1, 28*28).to(device)\n",
    "    mask = torch.ones_like(new_image, dtype=torch.int).to(device)\n",
    "    for i in range(28*28):\n",
    "        logits = model(new_image, mask)\n",
    "        probs = F.softmax(logits)\n",
    "        sample = torch.multinomial(probs)\n",
    "\n",
    "        new_image[0][i] = sample\n",
    "    return new_image"
   ]
  },
  {
   "cell_type": "code",
   "execution_count": null,
   "metadata": {},
   "outputs": [],
   "source": [
    "new_image = generate_image(model).to(\"cpu\")\n",
    "new_image"
   ]
  },
  {
   "cell_type": "code",
   "execution_count": 23,
   "metadata": {},
   "outputs": [
    {
     "data": {
      "image/png": "[encoded data removed]",
      "text/plain": [
       "<Figure size 640x480 with 2 Axes>"
      ]
     },
     "metadata": {},
     "output_type": "display_data"
    }
   ],
   "source": [
    "plt.imshow(new_image[0].reshape(28,28).detach().numpy(), cmap=\"gray\")\n",
    "plt.colorbar()  # 显示颜色条\n",
    "plt.show()"
   ]
  },
  {
   "cell_type": "code",
   "execution_count": 26,
   "metadata": {},
   "outputs": [
    {
     "name": "stdout",
     "output_type": "stream",
     "text": [
      "Probabilities: tensor([[0.1841, 0.3049, 0.0337, 0.4055, 0.0717],\n",
      "        [0.2159, 0.4198, 0.0337, 0.2424, 0.0882],\n",
      "        [0.5305, 0.0322, 0.0464, 0.2646, 0.1262]])\n",
      "Sampled indices: tensor([[3],\n",
      "        [1],\n",
      "        [0]])\n"
     ]
    }
   ],
   "source": [
    "import torch\n",
    "import torch.nn.functional as F\n",
    "\n",
    "# 假设你有一个大小为 (batch_size, num_classes) 的 logits 张量\n",
    "logits = torch.randn(3, 5)  # 3 个样本，5 个类别\n",
    "\n",
    "# 使用 softmax 获取概率分布\n",
    "probs = F.softmax(logits, dim=-1)  # 对每行（每个样本）进行 softmax\n",
    "\n",
    "print(\"Probabilities:\", probs)\n",
    "\n",
    "# 从 softmax 之后的概率中采样\n",
    "# 这里从每个样本中采样 1 个类别，dim=-1 表示按最后一维进行采样（类别维度）\n",
    "samples = torch.multinomial(probs, 1)\n",
    "\n",
    "print(\"Sampled indices:\", samples)"
   ]
  }
 ],
 "metadata": {
  "kernelspec": {
   "display_name": "ml",
   "language": "python",
   "name": "python3"
  },
  "language_info": {
   "codemirror_mode": {
    "name": "ipython",
    "version": 3
   },
   "file_extension": ".py",
   "mimetype": "text/x-python",
   "name": "python",
   "nbconvert_exporter": "python",
   "pygments_lexer": "ipython3",
   "version": "3.10.16"
  }
 },
 "nbformat": 4,
 "nbformat_minor": 2
}
